{
 "cells": [
  {
   "cell_type": "markdown",
   "metadata": {},
   "source": [
    "# Ahsanul Choudhury"
   ]
  },
  {
   "cell_type": "markdown",
   "metadata": {},
   "source": [
    "## DATA 602 HW 11"
   ]
  },
  {
   "cell_type": "markdown",
   "metadata": {},
   "source": [
    "Perform a Monte Carlo simulation to calculate Value at Risk (VaR) for the Apple stock price using the file attached to this lesson. There exist a number of ways to do this type of analysis, but you can follow this basic procedure (refer to this PDF mc.pdf \n",
    "\n",
    " for a more rigorous mathematical overview):\n",
    "\n",
    "   1.The file (apple.2011.csv) has 3 columns: date, price, and percent change.  The information you are really interested in is      the percent change.  This value is the percent change in the price from the previous date to the date on the corresponding      row.\n",
    "\n",
    "   2.Use the percent change values to create a Gaussian random number generator.  This generator will create Gaussian-                distributed randoms to use as hypothetical percent changes on the day to day price of Apple stock.\n",
    "\n",
    "   3.With that generator, create 20 random numbers.  With these randoms, you can find a potential price change over 20 days.\n",
    "\n",
    "   4.Start with the price from the last row and the random numbers to determine a hypothetical price after 20 days.  To do this,      take that last price, apply a percent change and get a new price.  Then take that new price, and apply the next percent          change.  Do this for the 20 randoms, and get a final price.\n",
    "\n",
    "   5.Store the final price after 20 days (you can discard the intermediate price values).\n",
    "   \n",
    "   6.Repeat steps 3-5 a very large number of times.  Something like 10000.  Each run will yield a different result.\n",
    "\n",
    "   7.Take all of the stored prices (10000 or so), sort them, and find the 1% lowest percentile.  This value is the final result,      and represents the VaR with 99% confidence.  This means that the price will be above this result after 20 days with a            confidence level of 99%.\n",
    "\n",
    "The other requirement for this assignment is to use an IPython Notebook.  Include in the notebook all the code, the results, and any other information you feel is needed (charts, graphs, plots, etc).  Rather than submitting .py files, give me the .ipynb file for your notebook."
   ]
  },
  {
   "cell_type": "code",
   "execution_count": 1,
   "metadata": {
    "collapsed": true
   },
   "outputs": [],
   "source": [
    "import pandas as pd\n",
    "import numpy as np\n",
    "import matplotlib.pyplot as plt"
   ]
  },
  {
   "cell_type": "code",
   "execution_count": 2,
   "metadata": {},
   "outputs": [
    {
     "name": "stdout",
     "output_type": "stream",
     "text": [
      "       date   price    pct_change\n",
      "0  1/3/2011  329.57         XXXXX\n",
      "1  1/4/2011  331.29   0.005218922\n",
      "2  1/5/2011  334.00   0.008180144\n",
      "3  1/6/2011  333.73  -0.000808383\n",
      "4  1/7/2011  336.12   0.007161478\n",
      "(252, 3)\n"
     ]
    }
   ],
   "source": [
    "apple = pd.read_csv('https://raw.githubusercontent.com/choudhury1023/DATA-602/master/apple.2011.csv', skiprows = 1,\n",
    "                    names = ['date', 'price', 'pct_change'])\n",
    "print apple.head(5)\n",
    "print apple.shape"
   ]
  },
  {
   "cell_type": "markdown",
   "metadata": {},
   "source": [
    "Calculate the mean and standard deviation."
   ]
  },
  {
   "cell_type": "code",
   "execution_count": 3,
   "metadata": {},
   "outputs": [
    {
     "name": "stdout",
     "output_type": "stream",
     "text": [
      "mu = 0.000957355207171 sigma = 0.0164876139799\n"
     ]
    }
   ],
   "source": [
    "apple['pct_change'] = pd.to_numeric(apple['pct_change'], errors='coerce')\n",
    "mu = np.mean(apple['pct_change'])\n",
    "sigma = np.std(apple['pct_change'])\n",
    "print \"mu =\", mu, \"sigma =\", sigma"
   ]
  },
  {
   "cell_type": "markdown",
   "metadata": {},
   "source": [
    "Starting price:"
   ]
  },
  {
   "cell_type": "code",
   "execution_count": 4,
   "metadata": {},
   "outputs": [
    {
     "data": {
      "text/plain": [
       "405.0"
      ]
     },
     "execution_count": 4,
     "metadata": {},
     "output_type": "execute_result"
    }
   ],
   "source": [
    "last_price = apple['price'].iloc[-1]\n",
    "last_price"
   ]
  },
  {
   "cell_type": "markdown",
   "metadata": {},
   "source": [
    "Random number generator and 20 random numbers:"
   ]
  },
  {
   "cell_type": "code",
   "execution_count": 5,
   "metadata": {},
   "outputs": [
    {
     "data": {
      "text/plain": [
       "array([ 0.02883009, -0.00672484,  0.00149848,  0.00767633, -0.0120501 ,\n",
       "        0.00099141,  0.00094267, -0.02797386,  0.01773611,  0.01085814,\n",
       "       -0.00935448, -0.00187107,  0.00928854, -0.00335179, -0.003045  ,\n",
       "       -0.02300313,  0.01010106,  0.00299986,  0.00548254, -0.02421139])"
      ]
     },
     "execution_count": 5,
     "metadata": {},
     "output_type": "execute_result"
    }
   ],
   "source": [
    "np.random.seed(7)\n",
    "rand_gen = np.random.normal(loc= mu, scale= sigma, size=20)\n",
    "rand_gen"
   ]
  },
  {
   "cell_type": "markdown",
   "metadata": {},
   "source": [
    "Hypothetical price after 20 days:"
   ]
  },
  {
   "cell_type": "code",
   "execution_count": 6,
   "metadata": {},
   "outputs": [
    {
     "data": {
      "text/plain": [
       "398.14777150971571"
      ]
     },
     "execution_count": 6,
     "metadata": {},
     "output_type": "execute_result"
    }
   ],
   "source": [
    "def get_price(sim_price, days, mu, sigma):\n",
    "    return sim_price * np.prod(np.random.normal(loc = mu, scale = sigma, size = days) + 1)\n",
    "\n",
    "np.random.seed(7)\n",
    "get_price(last_price, 20, mu ,sigma)"
   ]
  },
  {
   "cell_type": "markdown",
   "metadata": {},
   "source": [
    "Simulate 10,000 times:"
   ]
  },
  {
   "cell_type": "code",
   "execution_count": 7,
   "metadata": {},
   "outputs": [
    {
     "data": {
      "text/plain": [
       "[398.18554133119807,\n",
       " 422.4156731662689,\n",
       " 394.82448359069042,\n",
       " 456.1186810319449,\n",
       " 429.22662140268682]"
      ]
     },
     "execution_count": 7,
     "metadata": {},
     "output_type": "execute_result"
    }
   ],
   "source": [
    "results = []\n",
    "for i in range(10000):\n",
    "    results.append(get_price(last_price, 20, mu ,sigma))\n",
    "        \n",
    "results[:5]"
   ]
  },
  {
   "cell_type": "code",
   "execution_count": 8,
   "metadata": {},
   "outputs": [
    {
     "data": {
      "image/png": "[encoded data removed]",
      "text/plain": [
       "<matplotlib.figure.Figure at 0x98279f0>"
      ]
     },
     "metadata": {},
     "output_type": "display_data"
    }
   ],
   "source": [
    "plt.hist(results)\n",
    "plt.title(\"10,000 Simulations\")\n",
    "plt.xlabel(\"Simulated Price\")\n",
    "plt.ylabel(\"Frequency\")\n",
    "plt.show()"
   ]
  },
  {
   "cell_type": "markdown",
   "metadata": {},
   "source": [
    " VaR with 99% confidence"
   ]
  },
  {
   "cell_type": "code",
   "execution_count": 9,
   "metadata": {},
   "outputs": [
    {
     "data": {
      "text/plain": [
       "345.61448687715767"
      ]
     },
     "execution_count": 9,
     "metadata": {},
     "output_type": "execute_result"
    }
   ],
   "source": [
    "VaR_99 = np.percentile(results,1)\n",
    "VaR_99"
   ]
  }
 ],
 "metadata": {
  "kernelspec": {
   "display_name": "Python 2",
   "language": "python",
   "name": "python2"
  },
  "language_info": {
   "codemirror_mode": {
    "name": "ipython",
    "version": 2.0
   },
   "file_extension": ".py",
   "mimetype": "text/x-python",
   "name": "python",
   "nbconvert_exporter": "python",
   "pygments_lexer": "ipython2",
   "version": "2.7.13"
  }
 },
 "nbformat": 4,
 "nbformat_minor": 0
}
