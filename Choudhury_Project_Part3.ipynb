{
 "cells": [
  {
   "cell_type": "code",
   "execution_count": 5,
   "metadata": {},
   "outputs": [
    {
     "name": "stderr",
     "output_type": "stream",
     "text": [
      "IOPub data rate exceeded.\n",
      "The notebook server will temporarily stop sending output\n",
      "to the client in order to avoid crashing it.\n",
      "To change this limit, set the config variable\n",
      "`--NotebookApp.iopub_data_rate_limit`.\n"
     ]
    }
   ],
   "source": [
    "import pandas as pd\n",
    "import plotly\n",
    "from plotly.offline import download_plotlyjs, init_notebook_mode, iplot\n",
    "from plotly.graph_objs import *\n",
    "init_notebook_mode()"
   ]
  },
  {
   "cell_type": "code",
   "execution_count": 6,
   "metadata": {},
   "outputs": [
    {
     "name": "stdout",
     "output_type": "stream",
     "text": [
      "        State  \\\n",
      "0     Alabama   \n",
      "1      Alaska   \n",
      "2     Arizona   \n",
      "3    Arkansas   \n",
      "4  California   \n",
      "\n",
      "   Number of drivers involved in fatal collisions per billion miles  \\\n",
      "0                                               18.8                  \n",
      "1                                               18.1                  \n",
      "2                                               18.6                  \n",
      "3                                               22.4                  \n",
      "4                                               12.0                  \n",
      "\n",
      "   Percentage Of Drivers Involved In Fatal Collisions Who Were Speeding  \\\n",
      "0                                                 39                      \n",
      "1                                                 41                      \n",
      "2                                                 35                      \n",
      "3                                                 18                      \n",
      "4                                                 35                      \n",
      "\n",
      "   Percentage Of Drivers Involved In Fatal Collisions Who Were Alcohol-Impaired  \\\n",
      "0                                                 30                              \n",
      "1                                                 25                              \n",
      "2                                                 28                              \n",
      "3                                                 26                              \n",
      "4                                                 28                              \n",
      "\n",
      "   Percentage Of Drivers Involved In Fatal Collisions Who Were Not Distracted  \\\n",
      "0                                                 96                            \n",
      "1                                                 90                            \n",
      "2                                                 84                            \n",
      "3                                                 94                            \n",
      "4                                                 91                            \n",
      "\n",
      "   Percentage Of Drivers Involved In Fatal Collisions Who Had Not Been Involved In Any Previous Accidents  \\\n",
      "0                                                 80                                                        \n",
      "1                                                 94                                                        \n",
      "2                                                 96                                                        \n",
      "3                                                 95                                                        \n",
      "4                                                 89                                                        \n",
      "\n",
      "   Car Insurance Premiums ($)  \\\n",
      "0                      784.55   \n",
      "1                     1053.48   \n",
      "2                      899.47   \n",
      "3                      827.34   \n",
      "4                      878.41   \n",
      "\n",
      "   Losses incurred by insurance companies for collisions per insured driver ($)  \n",
      "0                                             145.08                             \n",
      "1                                             133.93                             \n",
      "2                                             110.35                             \n",
      "3                                             142.39                             \n",
      "4                                             165.63                             \n"
     ]
    }
   ],
   "source": [
    "rawData = pd.read_csv('https://raw.githubusercontent.com/fivethirtyeight/data/master/bad-drivers/bad-drivers.csv')\n",
    "print rawData.head(5)"
   ]
  },
  {
   "cell_type": "code",
   "execution_count": 7,
   "metadata": {},
   "outputs": [
    {
     "name": "stdout",
     "output_type": "stream",
     "text": [
      "        state  fatal_accident  losses  insurance_premiums\n",
      "0     Alabama            18.8  145.08              784.55\n",
      "1      Alaska            18.1  133.93             1053.48\n",
      "2     Arizona            18.6  110.35              899.47\n",
      "3    Arkansas            22.4  142.39              827.34\n",
      "4  California            12.0  165.63              878.41\n"
     ]
    }
   ],
   "source": [
    "df = rawData[['State','Number of drivers involved in fatal collisions per billion miles','Losses incurred by insurance companies for collisions per insured driver ($)','Car Insurance Premiums ($)']]\n",
    "df = df.rename(columns ={'State':'state', 'Number of drivers involved in fatal collisions per billion miles':'fatal_accident',\n",
    "                         'Losses incurred by insurance companies for collisions per insured driver ($)':'losses',\n",
    "                         'Car Insurance Premiums ($)':'insurance_premiums'})\n",
    "print df.head(5)"
   ]
  },
  {
   "cell_type": "code",
   "execution_count": 8,
   "metadata": {},
   "outputs": [
    {
     "data": {
      "text/html": [
       "<script>requirejs.config({paths: { 'plotly': ['https://cdn.plot.ly/plotly-latest.min']},});if(!window.Plotly) {{require(['plotly'],function(plotly) {window.Plotly=plotly;});}}</script>"
      ]
     },
     "metadata": {},
     "output_type": "execute_result"
    },
    {
     "data": {
      "text/html": [
       "<div id=\"f5c4cfdd-766f-475e-88cc-644d56e6fc2d\" style=\"height: 525px; width: 100%;\" class=\"plotly-graph-div\"></div><script type=\"text/javascript\">require([\"plotly\"], function(Plotly) { window.PLOTLYENV=window.PLOTLYENV || {};window.PLOTLYENV.BASE_URL=\"https://plot.ly\";Plotly.newPlot(\"f5c4cfdd-766f-475e-88cc-644d56e6fc2d\", [{\"autocolorscale\": false, \"colorscale\": [[0.0, \"rgb(255,204,204)\"], [0.2, \"rgb(255,153,153)\"], [0.4, \"rgb(255,102,102)\"], [0.6, \"rgb(255,51,51)\"], [0.8, \"rgb(255,0,0)\"], [1.0, \"rgb(204,0,0)\"]], \"text\": [\"Alabama<br>Number of drivers involved in fatal collisions per billion miles 18.8<br> Losses incurred by insurance companies for collisions per insured driver ($) 145.08\", \"Alaska<br>Number of drivers involved in fatal collisions per billion miles 18.1<br> Losses incurred by insurance companies for collisions per insured driver ($) 133.93\", \"Arizona<br>Number of drivers involved in fatal collisions per billion miles 18.6<br> Losses incurred by insurance companies for collisions per insured driver ($) 110.35\", \"Arkansas<br>Number of drivers involved in fatal collisions per billion miles 22.4<br> Losses incurred by insurance companies for collisions per insured driver ($) 142.39\", \"California<br>Number of drivers involved in fatal collisions per billion miles 12.0<br> Losses incurred by insurance companies for collisions per insured driver ($) 165.63\", \"Colorado<br>Number of drivers involved in fatal collisions per billion miles 13.6<br> Losses incurred by insurance companies for collisions per insured driver ($) 139.91\", \"Connecticut<br>Number of drivers involved in fatal collisions per billion miles 10.8<br> Losses incurred by insurance companies for collisions per insured driver ($) 167.02\", \"Delaware<br>Number of drivers involved in fatal collisions per billion miles 16.2<br> Losses incurred by insurance companies for collisions per insured driver ($) 151.48\", \"District of Columbia<br>Number of drivers involved in fatal collisions per billion miles 5.9<br> Losses incurred by insurance companies for collisions per insured driver ($) 136.05\", \"Florida<br>Number of drivers involved in fatal collisions per billion miles 17.9<br> Losses incurred by insurance companies for collisions per insured driver ($) 144.18\", \"Georgia<br>Number of drivers involved in fatal collisions per billion miles 15.6<br> Losses incurred by insurance companies for collisions per insured driver ($) 142.8\", \"Hawaii<br>Number of drivers involved in fatal collisions per billion miles 17.5<br> Losses incurred by insurance companies for collisions per insured driver ($) 120.92\", \"Idaho<br>Number of drivers involved in fatal collisions per billion miles 15.3<br> Losses incurred by insurance companies for collisions per insured driver ($) 82.75\", \"Illinois<br>Number of drivers involved in fatal collisions per billion miles 12.8<br> Losses incurred by insurance companies for collisions per insured driver ($) 139.15\", \"Indiana<br>Number of drivers involved in fatal collisions per billion miles 14.5<br> Losses incurred by insurance companies for collisions per insured driver ($) 108.92\", \"Iowa<br>Number of drivers involved in fatal collisions per billion miles 15.7<br> Losses incurred by insurance companies for collisions per insured driver ($) 114.47\", \"Kansas<br>Number of drivers involved in fatal collisions per billion miles 17.8<br> Losses incurred by insurance companies for collisions per insured driver ($) 133.8\", \"Kentucky<br>Number of drivers involved in fatal collisions per billion miles 21.4<br> Losses incurred by insurance companies for collisions per insured driver ($) 137.13\", \"Louisiana<br>Number of drivers involved in fatal collisions per billion miles 20.5<br> Losses incurred by insurance companies for collisions per insured driver ($) 194.78\", \"Maine<br>Number of drivers involved in fatal collisions per billion miles 15.1<br> Losses incurred by insurance companies for collisions per insured driver ($) 96.57\", \"Maryland<br>Number of drivers involved in fatal collisions per billion miles 12.5<br> Losses incurred by insurance companies for collisions per insured driver ($) 192.7\", \"Massachusetts<br>Number of drivers involved in fatal collisions per billion miles 8.2<br> Losses incurred by insurance companies for collisions per insured driver ($) 135.63\", \"Michigan<br>Number of drivers involved in fatal collisions per billion miles 14.1<br> Losses incurred by insurance companies for collisions per insured driver ($) 152.26\", \"Minnesota<br>Number of drivers involved in fatal collisions per billion miles 9.6<br> Losses incurred by insurance companies for collisions per insured driver ($) 133.35\", \"Mississippi<br>Number of drivers involved in fatal collisions per billion miles 17.6<br> Losses incurred by insurance companies for collisions per insured driver ($) 155.77\", \"Missouri<br>Number of drivers involved in fatal collisions per billion miles 16.1<br> Losses incurred by insurance companies for collisions per insured driver ($) 144.45\", \"Montana<br>Number of drivers involved in fatal collisions per billion miles 21.4<br> Losses incurred by insurance companies for collisions per insured driver ($) 85.15\", \"Nebraska<br>Number of drivers involved in fatal collisions per billion miles 14.9<br> Losses incurred by insurance companies for collisions per insured driver ($) 114.82\", \"Nevada<br>Number of drivers involved in fatal collisions per billion miles 14.7<br> Losses incurred by insurance companies for collisions per insured driver ($) 138.71\", \"New Hampshire<br>Number of drivers involved in fatal collisions per billion miles 11.6<br> Losses incurred by insurance companies for collisions per insured driver ($) 120.21\", \"New Jersey<br>Number of drivers involved in fatal collisions per billion miles 11.2<br> Losses incurred by insurance companies for collisions per insured driver ($) 159.85\", \"New Mexico<br>Number of drivers involved in fatal collisions per billion miles 18.4<br> Losses incurred by insurance companies for collisions per insured driver ($) 120.75\", \"New York<br>Number of drivers involved in fatal collisions per billion miles 12.3<br> Losses incurred by insurance companies for collisions per insured driver ($) 150.01\", \"North Carolina<br>Number of drivers involved in fatal collisions per billion miles 16.8<br> Losses incurred by insurance companies for collisions per insured driver ($) 127.82\", \"North Dakota<br>Number of drivers involved in fatal collisions per billion miles 23.9<br> Losses incurred by insurance companies for collisions per insured driver ($) 109.72\", \"Ohio<br>Number of drivers involved in fatal collisions per billion miles 14.1<br> Losses incurred by insurance companies for collisions per insured driver ($) 133.52\", \"Oklahoma<br>Number of drivers involved in fatal collisions per billion miles 19.9<br> Losses incurred by insurance companies for collisions per insured driver ($) 178.86\", \"Oregon<br>Number of drivers involved in fatal collisions per billion miles 12.8<br> Losses incurred by insurance companies for collisions per insured driver ($) 104.61\", \"Pennsylvania<br>Number of drivers involved in fatal collisions per billion miles 18.2<br> Losses incurred by insurance companies for collisions per insured driver ($) 153.86\", \"Rhode Island<br>Number of drivers involved in fatal collisions per billion miles 11.1<br> Losses incurred by insurance companies for collisions per insured driver ($) 148.58\", \"South Carolina<br>Number of drivers involved in fatal collisions per billion miles 23.9<br> Losses incurred by insurance companies for collisions per insured driver ($) 116.29\", \"South Dakota<br>Number of drivers involved in fatal collisions per billion miles 19.4<br> Losses incurred by insurance companies for collisions per insured driver ($) 96.87\", \"Tennessee<br>Number of drivers involved in fatal collisions per billion miles 19.5<br> Losses incurred by insurance companies for collisions per insured driver ($) 155.57\", \"Texas<br>Number of drivers involved in fatal collisions per billion miles 19.4<br> Losses incurred by insurance companies for collisions per insured driver ($) 156.83\", \"Utah<br>Number of drivers involved in fatal collisions per billion miles 11.3<br> Losses incurred by insurance companies for collisions per insured driver ($) 109.48\", \"Vermont<br>Number of drivers involved in fatal collisions per billion miles 13.6<br> Losses incurred by insurance companies for collisions per insured driver ($) 109.61\", \"Virginia<br>Number of drivers involved in fatal collisions per billion miles 12.7<br> Losses incurred by insurance companies for collisions per insured driver ($) 153.72\", \"Washington<br>Number of drivers involved in fatal collisions per billion miles 10.6<br> Losses incurred by insurance companies for collisions per insured driver ($) 111.62\", \"West Virginia<br>Number of drivers involved in fatal collisions per billion miles 23.8<br> Losses incurred by insurance companies for collisions per insured driver ($) 152.56\", \"Wisconsin<br>Number of drivers involved in fatal collisions per billion miles 13.8<br> Losses incurred by insurance companies for collisions per insured driver ($) 106.62\", \"Wyoming<br>Number of drivers involved in fatal collisions per billion miles 17.4<br> Losses incurred by insurance companies for collisions per insured driver ($) 122.04\"], \"locations\": [\"AL\", \"AK\", \"AZ\", \"AR\", \"CA\", \"CO\", \"CT\", \"DE\", \"DC\", \"FL\", \"GA\", \"HI\", \"ID\", \"IL\", \"IN\", \"IA\", \"KS\", \"KY\", \"LA\", \"ME\", \"MD\", \"MA\", \"MI\", \"MN\", \"MS\", \"MO\", \"MT\", \"NE\", \"NV\", \"NH\", \"NJ\", \"NM\", \"NY\", \"NC\", \"ND\", \"OH\", \"OK\", \"OR\", \"PA\", \"RI\", \"SC\", \"SD\", \"TN\", \"TX\", \"UT\", \"VT\", \"VA\", \"WA\", \"WV\", \"WI\", \"WY\"], \"colorbar\": {\"title\": \"USD\"}, \"type\": \"choropleth\", \"marker\": {\"line\": {\"color\": \"rgb(255,255,255)\", \"width\": 2}}, \"z\": [784.55, 1053.48, 899.47, 827.34, 878.41, 835.5, 1068.73, 1137.87, 1273.89, 1160.13, 913.15, 861.18, 641.96, 803.11, 710.46, 649.06, 780.45, 872.51, 1281.55, 661.88, 1048.78, 1011.14, 1110.61, 777.18, 896.07, 790.32, 816.21, 732.28, 1029.87, 746.54, 1301.52, 869.85, 1234.31, 708.24, 688.75, 697.73, 881.51, 804.71, 905.99, 1148.99, 858.97, 669.31, 767.91, 1004.75, 809.38, 716.2, 768.95, 890.03, 992.61, 670.31, 791.14], \"locationmode\": \"USA-states\"}], {\"geo\": {\"showlakes\": true, \"scope\": \"usa\", \"projection\": {\"type\": \"albers usa\"}, \"lakecolor\": \"rgb(255, 255, 255)\"}, \"title\": \"US Car Insurance Premimums by State<br>(Hover for breakdown)\"}, {\"linkText\": \"Export to plot.ly\", \"showLink\": true})});</script>"
      ]
     },
     "metadata": {},
     "output_type": "execute_result"
    }
   ],
   "source": [
    "df_plot = df\n",
    "df_plot['code'] = ['AL', 'AK', 'AZ', 'AR', 'CA', 'CO', 'CT', 'DE', 'DC', 'FL', 'GA', 'HI', 'ID', 'IL', 'IN', 'IA', 'KS', 'KY', 'LA',\n",
    "              'ME','MD', 'MA', 'MI', 'MN', 'MS', 'MO', 'MT', 'NE', 'NV', 'NH', 'NJ', 'NM', 'NY', 'NC', 'ND', 'OH', 'OK', 'OR',\n",
    "              'PA', 'RI', 'SC', 'SD', 'TN', 'TX', 'UT', 'VT', 'VA', 'WA', 'WV', 'WI', 'WY']\n",
    "\n",
    "init_notebook_mode(connected=True)\n",
    "plotly.tools.set_credentials_file(username='choudhury1023', api_key='Z0n7ysyIw8f1ryGTMgWa')\n",
    "\n",
    "for col in df.columns:\n",
    "    df_plot[col] = df_plot[col].astype(str)\n",
    "\n",
    "scl = [[0.0, 'rgb(255,204,204)'],[0.2, 'rgb(255,153,153)'],[0.4, 'rgb(255,102,102)'],\\\n",
    "            [0.6, 'rgb(255,51,51)'],[0.8, 'rgb(255,0,0)'],[1.0, 'rgb(204,0,0)']]\n",
    "\n",
    "df_plot['text'] = df_plot['state'] + '<br>' +\\\n",
    "    'Number of drivers involved in fatal collisions per billion miles '+df['fatal_accident']+'<br>'+\\\n",
    "    ' Losses incurred by insurance companies for collisions per insured driver ($) '+df['losses']\n",
    "\n",
    "\n",
    "data = [ dict(\n",
    "        type='choropleth',\n",
    "        colorscale = scl,\n",
    "        autocolorscale = False,\n",
    "        locations = df_plot['code'],\n",
    "        z = df_plot['insurance_premiums'].astype(float),\n",
    "        locationmode = 'USA-states',\n",
    "        text = df_plot['text'],\n",
    "        marker = dict(\n",
    "            line = dict (\n",
    "                color = 'rgb(255,255,255)',\n",
    "                width = 2\n",
    "            ) ),\n",
    "        colorbar = dict(\n",
    "            title = \"USD\")\n",
    "        ) ]\n",
    "\n",
    "layout = dict(\n",
    "        title = 'US Car Insurance Premimums by State<br>(Hover for breakdown)',\n",
    "        geo = dict(\n",
    "            scope='usa',\n",
    "            projection=dict( type='albers usa' ),\n",
    "            showlakes = True,\n",
    "            lakecolor = 'rgb(255, 255, 255)'),\n",
    "             )\n",
    "    \n",
    "fig = dict( data=data, layout=layout )\n",
    "iplot( fig)"
   ]
  }
 ],
 "metadata": {
  "kernelspec": {
   "display_name": "Python 2",
   "language": "python",
   "name": "python2"
  },
  "language_info": {
   "codemirror_mode": {
    "name": "ipython",
    "version": 2.0
   },
   "file_extension": ".py",
   "mimetype": "text/x-python",
   "name": "python",
   "nbconvert_exporter": "python",
   "pygments_lexer": "ipython2",
   "version": "2.7.13"
  }
 },
 "nbformat": 4,
 "nbformat_minor": 0
}