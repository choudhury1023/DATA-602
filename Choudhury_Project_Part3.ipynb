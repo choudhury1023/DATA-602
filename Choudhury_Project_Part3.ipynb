{
 "cells": [
  {
   "cell_type": "code",
   "execution_count": 2,
   "metadata": {
    "collapsed": true
   },
   "outputs": [],
   "source": [
    "import pandas as pd\n",
    "import plotly.plotly as py"
   ]
  },
  {
   "cell_type": "code",
   "execution_count": 4,
   "metadata": {},
   "outputs": [
    {
     "name": "stdout",
     "output_type": "stream",
     "text": [
      "        State  \\\n0     Alabama   \n1      Alaska   \n2     Arizona   \n3    Arkansas   \n4  California   \n\n   Number of drivers involved in fatal collisions per billion miles  \\\n0                                               18.8                  \n1                                               18.1                  \n2                                               18.6                  \n3                                               22.4                  \n4                                               12.0                  \n\n   Percentage Of Drivers Involved In Fatal Collisions Who Were Speeding  \\\n0                                                 39                      \n1                                                 41                      \n2                                                 35                      \n3                                                 18                      \n4                                                 35                      \n\n   Percentage Of Drivers Involved In Fatal Collisions Who Were Alcohol-Impaired  \\\n0                                                 30                              \n1                                                 25                              \n2                                                 28                              \n3                                                 26                              \n4                                                 28                              \n\n   Percentage Of Drivers Involved In Fatal Collisions Who Were Not Distracted  \\\n0                                                 96                            \n1                                                 90                            \n2                                                 84                            \n3                                                 94                            \n4                                                 91                            \n\n   Percentage Of Drivers Involved In Fatal Collisions Who Had Not Been Involved In Any Previous Accidents  \\\n0                                                 80                                                        \n1                                                 94                                                        \n2                                                 96                                                        \n3                                                 95                                                        \n4                                                 89                                                        \n\n   Car Insurance Premiums ($)  \\\n0                      784.55   \n1                     1053.48   \n2                      899.47   \n3                      827.34   \n4                      878.41   \n\n   Losses incurred by insurance companies for collisions per insured driver ($)  \n0                                             145.08                             \n1                                             133.93                             \n2                                             110.35                             \n3                                             142.39                             \n4                                             165.63                             \n"
     ]
    }
   ],
   "source": [
    "rawData = pd.read_csv('https://raw.githubusercontent.com/fivethirtyeight/data/master/bad-drivers/bad-drivers.csv')\n",
    "print rawData.head(5)"
   ]
  },
  {
   "cell_type": "code",
   "execution_count": 5,
   "metadata": {},
   "outputs": [
    {
     "name": "stdout",
     "output_type": "stream",
     "text": [
      "        state  fatal_accident  losses  insurance_premiums\n0     Alabama            18.8  145.08              784.55\n1      Alaska            18.1  133.93             1053.48\n2     Arizona            18.6  110.35              899.47\n3    Arkansas            22.4  142.39              827.34\n4  California            12.0  165.63              878.41\n"
     ]
    }
   ],
   "source": [
    "df = rawData[['State','Number of drivers involved in fatal collisions per billion miles','Losses incurred by insurance companies for collisions per insured driver ($)','Car Insurance Premiums ($)']]\n",
    "df = df.rename(columns ={'State':'state', 'Number of drivers involved in fatal collisions per billion miles':'fatal_accident',\n",
    "                         'Losses incurred by insurance companies for collisions per insured driver ($)':'losses',\n",
    "                         'Car Insurance Premiums ($)':'insurance_premiums'})\n",
    "print df.head(5)"
   ]
  },
  {
   "cell_type": "code",
   "execution_count": 6,
   "metadata": {},
   "outputs": [
    {
     "data": {
      "text/html": [
       "<iframe id=\"igraph\" scrolling=\"no\" style=\"border:none;\" seamless=\"seamless\" src=\"https://plot.ly/~choudhury1023/2.embed\" height=\"525px\" width=\"100%\"></iframe>"
      ],
      "text/plain": [
       "<iframe id=\"igraph\" scrolling=\"no\" style=\"border:none;\" seamless=\"seamless\" src=\"https://plot.ly/~choudhury1023/2.embed\" height=\"525px\" width=\"100%\"></iframe>"
      ]
     },
     "execution_count": 6,
     "metadata": {},
     "output_type": "execute_result"
    }
   ],
   "source": [
    "df_plot = df\n",
    "df_plot['code'] = ['AL', 'AK', 'AZ', 'AR', 'CA', 'CO', 'CT', 'DE', 'DC', 'FL', 'GA', 'HI', 'ID', 'IL', 'IN', 'IA', 'KS', 'KY', 'LA',\n",
    "              'ME','MD', 'MA', 'MI', 'MN', 'MS', 'MO', 'MT', 'NE', 'NV', 'NH', 'NJ', 'NM', 'NY', 'NC', 'ND', 'OH', 'OK', 'OR',\n",
    "              'PA', 'RI', 'SC', 'SD', 'TN', 'TX', 'UT', 'VT', 'VA', 'WA', 'WV', 'WI', 'WY']\n",
    "\n",
    "import plotly\n",
    "plotly.tools.set_credentials_file(username='choudhury1023', api_key='Z0n7ysyIw8f1ryGTMgWa')\n",
    "\n",
    "for col in df.columns:\n",
    "    df_plot[col] = df_plot[col].astype(str)\n",
    "\n",
    "scl = [[0.0, 'rgb(255,204,204)'],[0.2, 'rgb(255,153,153)'],[0.4, 'rgb(255,102,102)'],\\\n",
    "            [0.6, 'rgb(255,51,51)'],[0.8, 'rgb(255,0,0)'],[1.0, 'rgb(204,0,0)']]\n",
    "\n",
    "df_plot['text'] = df_plot['state'] + '<br>' +\\\n",
    "    'Number of drivers involved in fatal collisions per billion miles '+df['fatal_accident']+'<br>'+\\\n",
    "    ' Losses incurred by insurance companies for collisions per insured driver ($) '+df['losses']\n",
    "\n",
    "\n",
    "data = [ dict(\n",
    "        type='choropleth',\n",
    "        colorscale = scl,\n",
    "        autocolorscale = False,\n",
    "        locations = df_plot['code'],\n",
    "        z = df_plot['insurance_premiums'].astype(float),\n",
    "        locationmode = 'USA-states',\n",
    "        text = df_plot['text'],\n",
    "        marker = dict(\n",
    "            line = dict (\n",
    "                color = 'rgb(255,255,255)',\n",
    "                width = 2\n",
    "            ) ),\n",
    "        colorbar = dict(\n",
    "            title = \"USD\")\n",
    "        ) ]\n",
    "\n",
    "layout = dict(\n",
    "        title = 'US Car Insurance Premimums by State<br>(Hover for breakdown)',\n",
    "        geo = dict(\n",
    "            scope='usa',\n",
    "            projection=dict( type='albers usa' ),\n",
    "            showlakes = True,\n",
    "            lakecolor = 'rgb(255, 255, 255)'),\n",
    "             )\n",
    "    \n",
    "fig = dict( data=data, layout=layout )\n",
    "py.iplot( fig, filename='us_insurance_map' )"
   ]
  },
  {
   "cell_type": "code",
   "execution_count": null,
   "metadata": {},
   "outputs": [],
   "source": [
    ""
   ]
  }
 ],
 "metadata": {
  "kernelspec": {
   "display_name": "Python 2",
   "language": "python",
   "name": "python2"
  },
  "language_info": {
   "codemirror_mode": {
    "name": "ipython",
    "version": 2.0
   },
   "file_extension": ".py",
   "mimetype": "text/x-python",
   "name": "python",
   "nbconvert_exporter": "python",
   "pygments_lexer": "ipython2",
   "version": "2.7.13"
  }
 },
 "nbformat": 4,
 "nbformat_minor": 0
}
